{
 "cells": [
  {
   "cell_type": "code",
   "execution_count": 1,
   "id": "b381b539",
   "metadata": {},
   "outputs": [],
   "source": [
    "import pandas as pd\n",
    "import numpy as np\n",
    "from sklearn.linear_model import LinearRegression, Ridge, Lasso\n",
    "from sklearn.ensemble import RandomForestRegressor\n",
    "from sklearn.metrics import mean_squared_error, r2_score, accuracy_score, mean_absolute_error\n",
    "import matplotlib.pyplot as plt"
   ]
  },
  {
   "cell_type": "code",
   "execution_count": 2,
   "id": "878e8710",
   "metadata": {},
   "outputs": [],
   "source": [
    "df = pd.read_excel('crude oil dataset/Brent 6monthly2017.xlsx')"
   ]
  },
  {
   "cell_type": "code",
   "execution_count": 3,
   "id": "3ece26b0",
   "metadata": {},
   "outputs": [],
   "source": [
    "x = df[['t']]\n",
    "\n",
    "#for multi-featuring:comment the next line\n",
    "x = np.array(df.t)\n",
    "\n",
    "y = df.real\n",
    "y = y.dropna()\n",
    "y = np.array(y)\n",
    "x1 = x\n",
    "y1 = y\n",
    "\n",
    "#specify the number of tests-1 here (if it is 3, type 2)\n",
    "num = 2\n",
    "\n",
    "n_test = len(x) - num - 5\n",
    "xtrain = x[:n_test]\n",
    "ytrain = y[:n_test]\n",
    "xtest = x[n_test+5:]\n",
    "ytest = y[n_test+5:]\n",
    "\n",
    "xtrain1 = x1[:n_test]\n",
    "ytrain1 = y1[:n_test]\n",
    "xtest1 = x1[n_test+4:]\n",
    "ytest1 = y1[n_test+4:]\n",
    "\n",
    "\n",
    "#for multi-featuring: comment the next four lines\n",
    "xtrain = xtrain.reshape(-1,1)\n",
    "xtest = xtest.reshape(-1,1)\n",
    "\n",
    "xtrain1 = xtrain1.reshape(-1,1)\n",
    "xtest1 = xtest1.reshape(-1,1)"
   ]
  },
  {
   "cell_type": "code",
   "execution_count": null,
   "id": "a2858754",
   "metadata": {},
   "outputs": [],
   "source": []
  },
  {
   "cell_type": "code",
   "execution_count": 4,
   "id": "1b22195f",
   "metadata": {},
   "outputs": [],
   "source": [
    "def findthebestdataset(xtrain,ytrain,xtest,ytest,break1=-1):    \n",
    "    mae = []\n",
    "    rmse = []\n",
    "    y_pred1 = []\n",
    "    j=0\n",
    "    for i in range(0,int((len(x)-num-5)/3)-1):\n",
    "        for j in range(3):\n",
    "    #for multi-featuring: comment the next two lines and decomment the lines 11-18\n",
    "            xtrain = np.delete(xtrain, 0)\n",
    "            ytrain = np.delete(ytrain, 0)\n",
    "    #        xtrain = xtrain.drop(j);\n",
    "    #        j += 1 \n",
    "    #        xtrain = xtrain.drop(j);\n",
    "    #        j += 1\n",
    "    #        xtrain = xtrain.drop(j);\n",
    "    #        j += 1\n",
    "    #        ytrain = np.delete(ytrain, 0)\n",
    "    #        ytrain = np.delete(ytrain, 0)\n",
    "        xtrain = xtrain.reshape(-1,1)\n",
    "        model = RandomForestRegressor()\n",
    "        model.fit(xtrain, ytrain)\n",
    "        y_pred = model.predict(xtest)\n",
    "        mae.append(mean_absolute_error(ytest,y_pred))\n",
    "        rmse.append(np.sqrt(mean_squared_error(ytest,y_pred)))\n",
    "#        print(\"the ith time: \",i,\"\\nMAE is: \",format(mean_absolute_error(ytest,y_pred),\".3f\"))#\n",
    "#        print(\"RMSE is: \",format(np.sqrt(mean_squared_error(ytest,y_pred)),\".3f\"))\n",
    "        if (i==break1 and break1 != -1):\n",
    "                break;\n",
    "    return mae, rmse, y_pred    "
   ]
  },
  {
   "cell_type": "code",
   "execution_count": 5,
   "id": "2d4da807",
   "metadata": {},
   "outputs": [
    {
     "data": {
      "image/png": "[encoded data removed]",
      "text/plain": [
       "<Figure size 432x288 with 1 Axes>"
      ]
     },
     "metadata": {
      "needs_background": "light"
     },
     "output_type": "display_data"
    }
   ],
   "source": [
    "mae, rmse, dummy = findthebestdataset(xtrain,ytrain,xtest,ytest)\n",
    "np.argmin(rmse)\n",
    "\n",
    "x_axis = list(range(0,int((len(x)-num-5)/3)-1))\n",
    "y_axis = rmse\n",
    "plt.plot(x_axis,y_axis)\n",
    "plt.show()\n",
    "mae1, rmse1, y_pred = findthebestdataset(xtrain1,ytrain1,xtest1,ytest1,np.argmin(rmse))"
   ]
  },
  {
   "cell_type": "code",
   "execution_count": 6,
   "id": "e3794391",
   "metadata": {},
   "outputs": [
    {
     "name": "stdout",
     "output_type": "stream",
     "text": [
      "MAE and RMSE are: 29.681922222222173 30.119194169554582\n"
     ]
    }
   ],
   "source": [
    "print(\"MAE and RMSE are:\",mae1[np.argmin(rmse)],rmse1[np.argmin(rmse)])"
   ]
  }
 ],
 "metadata": {
  "kernelspec": {
   "display_name": "Python 3 (ipykernel)",
   "language": "python",
   "name": "python3"
  },
  "language_info": {
   "codemirror_mode": {
    "name": "ipython",
    "version": 3
   },
   "file_extension": ".py",
   "mimetype": "text/x-python",
   "name": "python",
   "nbconvert_exporter": "python",
   "pygments_lexer": "ipython3",
   "version": "3.10.4"
  }
 },
 "nbformat": 4,
 "nbformat_minor": 5
}
