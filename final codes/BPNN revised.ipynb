{
 "cells": [
  {
   "cell_type": "code",
   "execution_count": 1,
   "id": "3cdcc793",
   "metadata": {},
   "outputs": [],
   "source": [
    "#not runnable"
   ]
  },
  {
   "cell_type": "code",
   "execution_count": null,
   "id": "6d6de61f",
   "metadata": {},
   "outputs": [],
   "source": [
    "import numpy as np\n",
    "import pandas as pd\n",
    "\n",
    "import matplotlib.pyplot as plt\n",
    "%matplotlib inline\n",
    "\n",
    "import math\n",
    "from keras.models import Sequential\n",
    "from keras.layers import Dense\n",
    "from keras.layers import LSTM\n",
    "from sklearn.preprocessing import MinMaxScaler\n",
    "from sklearn.metrics import mean_squared_error\n",
    "from sklearn.metrics import mean_absolute_error\n",
    "\n",
    "from IPython.display import SVG\n",
    "from keras.utils.vis_utils import model_to_dot\n",
    "\n",
    "import itertools\n",
    "import warnings\n",
    "warnings.filterwarnings('ignore')"
   ]
  },
  {
   "cell_type": "code",
   "execution_count": 2,
   "id": "be77c1da",
   "metadata": {},
   "outputs": [],
   "source": [
    "import pandas as pd\n",
    "data = pd.read_excel('crude oil dataset/MAIN - Copy.xlsx')\n",
    "df = data\n",
    "data.head()\n",
    "df = df.drop(['Date'], axis='columns')\n",
    "df.columns = range(df.shape[1])   \n",
    "target = np.array(df[0])\n",
    "df = df.drop([0],axis='columns')\n",
    "X = df.astype('float32')\n",
    "y = target.astype(\"float32\")\n",
    "\n",
    "X_train = X[0:24]\n",
    "y_train = y[0:24]\n",
    "X_val = X[24:32]\n",
    "y_val = y[24:32]\n",
    "X_test = X[32:40]\n",
    "y_test = y[32:40]\n",
    "\n",
    "#scaler = MinMaxScaler()\n",
    "#scaler.fit(X_train)\n",
    "#Xs_train = scaler.transform(X_train)\n",
    "#Xs_test = scaler.transform(X_test)\n",
    "#Xs_val = scaler.transform(X_val)"
   ]
  },
  {
   "cell_type": "code",
   "execution_count": 3,
   "id": "806644ab",
   "metadata": {},
   "outputs": [],
   "source": [
    "def mean_absolute_percentage_error(y_true, y_pred): \n",
    "    y_true, y_pred = np.array(y_true), np.array(y_pred)\n",
    "    return np.mean(np.abs((y_true - y_pred) / y_true)) * 100\n",
    "\n",
    "def root_mean_squared_error(y_true, y_pred):\n",
    "    mse = mean_squared_error(y_true, y_pred)\n",
    "    rmse = np.sqrt(mse)\n",
    "    return rmse"
   ]
  },
  {
   "cell_type": "code",
   "execution_count": 4,
   "id": "c693a98d",
   "metadata": {},
   "outputs": [],
   "source": [
    "def calculate_performance(y_true, y_pred):\n",
    "    mse = mean_squared_error(y_true, y_pred)\n",
    "    mae = mean_absolute_error(y_true, y_pred)\n",
    "    mape = mean_absolute_percentage_error(y_true, y_pred)\n",
    "    rmse = root_mean_squared_error(y_true, y_pred)\n",
    "    return round(mse, 3), round(mae, 3), round(mape, 3), round(rmse, 3)"
   ]
  },
  {
   "cell_type": "code",
   "execution_count": 5,
   "id": "1a9ce50c",
   "metadata": {},
   "outputs": [],
   "source": [
    "def get_combinations(parameters):\n",
    "    return list(itertools.product(*parameters))"
   ]
  },
  {
   "cell_type": "code",
   "execution_count": 6,
   "id": "ad286827",
   "metadata": {},
   "outputs": [],
   "source": [
    "def create_NN(input_nodes, hidden_nodes, output_nodes):\n",
    "    model = Sequential()\n",
    "    model.add(Dense(int(hidden_nodes), input_dim=int(input_nodes)))\n",
    "    model.add(Dense(int(output_nodes)))\n",
    "    model.compile(loss='mean_squared_error', optimizer='adam')\n",
    "    return model"
   ]
  },
  {
   "cell_type": "code",
   "execution_count": 7,
   "id": "ceb8701e",
   "metadata": {},
   "outputs": [],
   "source": [
    "def train_model(model, X_train, y_train, epochs, batch_size):\n",
    "    model.fit(X_train, y_train, epochs=epochs, batch_size=batch_size, verbose=0, shuffle=True)\n",
    "    return model"
   ]
  },
  {
   "cell_type": "code",
   "execution_count": 8,
   "id": "7511377f",
   "metadata": {},
   "outputs": [],
   "source": [
    "def reshape_arrays(X_train, y_train):\n",
    "    X_train = np.array(X_train)\n",
    "    y_train = np.reshape(y_train, (len(y_train), 1))\n",
    "    return X_train, y_train"
   ]
  },
  {
   "cell_type": "code",
   "execution_count": 9,
   "id": "69b518a6",
   "metadata": {},
   "outputs": [],
   "source": [
    "m = create_NN(5,3,1)"
   ]
  },
  {
   "cell_type": "code",
   "execution_count": 10,
   "id": "6528a588",
   "metadata": {},
   "outputs": [
    {
     "ename": "ValueError",
     "evalue": "in user code:\n\n    File \"C:\\Users\\asus\\AppData\\Local\\Programs\\Python\\Python310\\lib\\site-packages\\keras\\engine\\training.py\", line 1021, in train_function  *\n        return step_function(self, iterator)\n    File \"C:\\Users\\asus\\AppData\\Local\\Programs\\Python\\Python310\\lib\\site-packages\\keras\\engine\\training.py\", line 1010, in step_function  **\n        outputs = model.distribute_strategy.run(run_step, args=(data,))\n    File \"C:\\Users\\asus\\AppData\\Local\\Programs\\Python\\Python310\\lib\\site-packages\\keras\\engine\\training.py\", line 1000, in run_step  **\n        outputs = model.train_step(data)\n    File \"C:\\Users\\asus\\AppData\\Local\\Programs\\Python\\Python310\\lib\\site-packages\\keras\\engine\\training.py\", line 859, in train_step\n        y_pred = self(x, training=True)\n    File \"C:\\Users\\asus\\AppData\\Local\\Programs\\Python\\Python310\\lib\\site-packages\\keras\\utils\\traceback_utils.py\", line 67, in error_handler\n        raise e.with_traceback(filtered_tb) from None\n    File \"C:\\Users\\asus\\AppData\\Local\\Programs\\Python\\Python310\\lib\\site-packages\\keras\\engine\\input_spec.py\", line 264, in assert_input_compatibility\n        raise ValueError(f'Input {input_index} of layer \"{layer_name}\" is '\n\n    ValueError: Input 0 of layer \"sequential\" is incompatible with the layer: expected shape=(None, 5), found shape=(24, 2)\n",
     "output_type": "error",
     "traceback": [
      "\u001b[1;31m---------------------------------------------------------------------------\u001b[0m",
      "\u001b[1;31mValueError\u001b[0m                                Traceback (most recent call last)",
      "Input \u001b[1;32mIn [10]\u001b[0m, in \u001b[0;36m<cell line: 1>\u001b[1;34m()\u001b[0m\n\u001b[1;32m----> 1\u001b[0m m \u001b[38;5;241m=\u001b[39m \u001b[43mtrain_model\u001b[49m\u001b[43m(\u001b[49m\u001b[43mm\u001b[49m\u001b[43m,\u001b[49m\u001b[43mX_train\u001b[49m\u001b[43m,\u001b[49m\u001b[43my_train\u001b[49m\u001b[43m,\u001b[49m\u001b[38;5;241;43m200\u001b[39;49m\u001b[43m,\u001b[49m\u001b[38;5;241;43m24\u001b[39;49m\u001b[43m)\u001b[49m\n",
      "Input \u001b[1;32mIn [7]\u001b[0m, in \u001b[0;36mtrain_model\u001b[1;34m(model, X_train, y_train, epochs, batch_size)\u001b[0m\n\u001b[0;32m      1\u001b[0m \u001b[38;5;28;01mdef\u001b[39;00m \u001b[38;5;21mtrain_model\u001b[39m(model, X_train, y_train, epochs, batch_size):\n\u001b[1;32m----> 2\u001b[0m     \u001b[43mmodel\u001b[49m\u001b[38;5;241;43m.\u001b[39;49m\u001b[43mfit\u001b[49m\u001b[43m(\u001b[49m\u001b[43mX_train\u001b[49m\u001b[43m,\u001b[49m\u001b[43m \u001b[49m\u001b[43my_train\u001b[49m\u001b[43m,\u001b[49m\u001b[43m \u001b[49m\u001b[43mepochs\u001b[49m\u001b[38;5;241;43m=\u001b[39;49m\u001b[43mepochs\u001b[49m\u001b[43m,\u001b[49m\u001b[43m \u001b[49m\u001b[43mbatch_size\u001b[49m\u001b[38;5;241;43m=\u001b[39;49m\u001b[43mbatch_size\u001b[49m\u001b[43m,\u001b[49m\u001b[43m \u001b[49m\u001b[43mverbose\u001b[49m\u001b[38;5;241;43m=\u001b[39;49m\u001b[38;5;241;43m0\u001b[39;49m\u001b[43m,\u001b[49m\u001b[43m \u001b[49m\u001b[43mshuffle\u001b[49m\u001b[38;5;241;43m=\u001b[39;49m\u001b[38;5;28;43;01mTrue\u001b[39;49;00m\u001b[43m)\u001b[49m\n\u001b[0;32m      3\u001b[0m     \u001b[38;5;28;01mreturn\u001b[39;00m model\n",
      "File \u001b[1;32m~\\AppData\\Local\\Programs\\Python\\Python310\\lib\\site-packages\\keras\\utils\\traceback_utils.py:67\u001b[0m, in \u001b[0;36mfilter_traceback.<locals>.error_handler\u001b[1;34m(*args, **kwargs)\u001b[0m\n\u001b[0;32m     65\u001b[0m \u001b[38;5;28;01mexcept\u001b[39;00m \u001b[38;5;167;01mException\u001b[39;00m \u001b[38;5;28;01mas\u001b[39;00m e:  \u001b[38;5;66;03m# pylint: disable=broad-except\u001b[39;00m\n\u001b[0;32m     66\u001b[0m   filtered_tb \u001b[38;5;241m=\u001b[39m _process_traceback_frames(e\u001b[38;5;241m.\u001b[39m__traceback__)\n\u001b[1;32m---> 67\u001b[0m   \u001b[38;5;28;01mraise\u001b[39;00m e\u001b[38;5;241m.\u001b[39mwith_traceback(filtered_tb) \u001b[38;5;28;01mfrom\u001b[39;00m \u001b[38;5;28mNone\u001b[39m\n\u001b[0;32m     68\u001b[0m \u001b[38;5;28;01mfinally\u001b[39;00m:\n\u001b[0;32m     69\u001b[0m   \u001b[38;5;28;01mdel\u001b[39;00m filtered_tb\n",
      "File \u001b[1;32m~\\AppData\\Local\\Programs\\Python\\Python310\\lib\\site-packages\\tensorflow\\python\\framework\\func_graph.py:1147\u001b[0m, in \u001b[0;36mfunc_graph_from_py_func.<locals>.autograph_handler\u001b[1;34m(*args, **kwargs)\u001b[0m\n\u001b[0;32m   1145\u001b[0m \u001b[38;5;28;01mexcept\u001b[39;00m \u001b[38;5;167;01mException\u001b[39;00m \u001b[38;5;28;01mas\u001b[39;00m e:  \u001b[38;5;66;03m# pylint:disable=broad-except\u001b[39;00m\n\u001b[0;32m   1146\u001b[0m   \u001b[38;5;28;01mif\u001b[39;00m \u001b[38;5;28mhasattr\u001b[39m(e, \u001b[38;5;124m\"\u001b[39m\u001b[38;5;124mag_error_metadata\u001b[39m\u001b[38;5;124m\"\u001b[39m):\n\u001b[1;32m-> 1147\u001b[0m     \u001b[38;5;28;01mraise\u001b[39;00m e\u001b[38;5;241m.\u001b[39mag_error_metadata\u001b[38;5;241m.\u001b[39mto_exception(e)\n\u001b[0;32m   1148\u001b[0m   \u001b[38;5;28;01melse\u001b[39;00m:\n\u001b[0;32m   1149\u001b[0m     \u001b[38;5;28;01mraise\u001b[39;00m\n",
      "\u001b[1;31mValueError\u001b[0m: in user code:\n\n    File \"C:\\Users\\asus\\AppData\\Local\\Programs\\Python\\Python310\\lib\\site-packages\\keras\\engine\\training.py\", line 1021, in train_function  *\n        return step_function(self, iterator)\n    File \"C:\\Users\\asus\\AppData\\Local\\Programs\\Python\\Python310\\lib\\site-packages\\keras\\engine\\training.py\", line 1010, in step_function  **\n        outputs = model.distribute_strategy.run(run_step, args=(data,))\n    File \"C:\\Users\\asus\\AppData\\Local\\Programs\\Python\\Python310\\lib\\site-packages\\keras\\engine\\training.py\", line 1000, in run_step  **\n        outputs = model.train_step(data)\n    File \"C:\\Users\\asus\\AppData\\Local\\Programs\\Python\\Python310\\lib\\site-packages\\keras\\engine\\training.py\", line 859, in train_step\n        y_pred = self(x, training=True)\n    File \"C:\\Users\\asus\\AppData\\Local\\Programs\\Python\\Python310\\lib\\site-packages\\keras\\utils\\traceback_utils.py\", line 67, in error_handler\n        raise e.with_traceback(filtered_tb) from None\n    File \"C:\\Users\\asus\\AppData\\Local\\Programs\\Python\\Python310\\lib\\site-packages\\keras\\engine\\input_spec.py\", line 264, in assert_input_compatibility\n        raise ValueError(f'Input {input_index} of layer \"{layer_name}\" is '\n\n    ValueError: Input 0 of layer \"sequential\" is incompatible with the layer: expected shape=(None, 5), found shape=(24, 2)\n"
     ]
    }
   ],
   "source": [
    "m = train_model(m,X_train,y_train,200,24)"
   ]
  },
  {
   "cell_type": "code",
   "execution_count": null,
   "id": "19f1abc1",
   "metadata": {},
   "outputs": [],
   "source": [
    "\n",
    "import tensorflow as tf\n",
    "from tensorflow.keras import regularizers\n",
    "m.compile(loss='mean_absolute_error', optimizer=tf.keras.optimizers.Adam(learning_rate=0.005))\n",
    "history = m.fit(X_train, y_train, epochs=200, validation_data=(X_val,y_val),verbose=1)"
   ]
  },
  {
   "cell_type": "code",
   "execution_count": null,
   "id": "d9fcb9af",
   "metadata": {},
   "outputs": [],
   "source": [
    "predictions = m.predict(X_test).flatten()\n",
    "rmse, mae = np.sqrt(mean_squared_error(y_test, predictions)), \\\n",
    "                   mean_absolute_error(y_test, predictions)\n",
    "print(\" RMSE:%5.3f, MAE:%5.3f\" %(rmse, mae))"
   ]
  },
  {
   "cell_type": "code",
   "execution_count": null,
   "id": "c4e3f19c",
   "metadata": {},
   "outputs": [],
   "source": [
    "def preprocess_FNN(data, look_back):\n",
    "    data = np.array(data)[:, 0]\n",
    "    X_train = []\n",
    "    y_train = []\n",
    "    for i in range(data.shape[0]-look_back):\n",
    "        x = data[i:look_back+i][::-1]\n",
    "        y = data[look_back+i]\n",
    "        X_train.append(list(x))\n",
    "        y_train.append(y)\n",
    "    input_seq_for_test = data[i+1:look_back+i+1][::-1]\n",
    "    return X_train, y_train, input_seq_for_test"
   ]
  },
  {
   "cell_type": "code",
   "execution_count": null,
   "id": "334fc0f8",
   "metadata": {},
   "outputs": [],
   "source": [
    "def forecast_FNN(model, input_sequence, future_steps):\n",
    "    forecasted_values = []\n",
    "    for i in range(future_steps):\n",
    "        forecasted_value = model.predict(input_sequence)\n",
    "        forecasted_values.append(forecasted_value[0][0])\n",
    "        input_sequence[0] = np.append(forecasted_value, input_sequence[0][:-1])\n",
    "    return forecasted_values"
   ]
  },
  {
   "cell_type": "code",
   "execution_count": null,
   "id": "5a298a80",
   "metadata": {},
   "outputs": [],
   "source": [
    "def FNN(data, look_back, hidden_nodes, output_nodes, epochs, batch_size, future_steps, scaler):\n",
    "    data = scaler.transform(data)\n",
    "    X_train, y_train, input_seq_for_test_FNN = preprocess_FNN(data, look_back)\n",
    "    X_train, y_train = reshape_arrays(X_train, y_train)\n",
    "\n",
    "    model_FNN = create_NN(input_nodes=look_back, hidden_nodes=hidden_nodes, output_nodes=output_nodes)\n",
    "    model_FNN = train_model(model_FNN, X_train, y_train, epochs, batch_size)\n",
    "\n",
    "    input_seq_for_test_FNN = np.reshape(input_seq_for_test_FNN, (1, len(input_seq_for_test_FNN)))\n",
    "    forecasted_values_FNN = forecast_FNN(model_FNN, input_sequence=input_seq_for_test_FNN, future_steps=future_steps)\n",
    "    \n",
    "    forecasted_values_FNN = list(scaler.inverse_transform([forecasted_values_FNN])[0])\n",
    "    \n",
    "    return model_FNN, forecasted_values_FNN"
   ]
  },
  {
   "cell_type": "code",
   "execution_count": null,
   "id": "5ad0ea80",
   "metadata": {},
   "outputs": [],
   "source": [
    "def get_accuracies_FNN(rainfall_data, test_rainfall_data, parameters, scaler):\n",
    "    combination_of_params = get_combinations(parameters)\n",
    "    information_FNN = []\n",
    "    iterator = 0\n",
    "    print('FNN - Number of combinations: ' + str(len(combination_of_params)))\n",
    "    \n",
    "    for param in combination_of_params:\n",
    "        if (iterator+1) != len(combination_of_params):\n",
    "            print(iterator+1, end=' -> ')\n",
    "        else:\n",
    "            print(iterator+1)\n",
    "        iterator = iterator+1\n",
    "\n",
    "        look_back = param[0]\n",
    "        hidden_nodes = param[1]\n",
    "        output_nodes = param[2]\n",
    "        epochs = param[3]\n",
    "        batch_size = param[4]\n",
    "        future_steps = param[5]\n",
    "\n",
    "        model_FNN, forecasted_values_FNN = FNN(rainfall_data, look_back, hidden_nodes, output_nodes, epochs, batch_size, future_steps, scaler)\n",
    "        \n",
    "        y_true = test_rainfall_data.ix[:future_steps].Precipitation\n",
    "        mse, mae, mape, rmse = calculate_performance(y_true, forecasted_values_FNN)\n",
    "        \n",
    "        info = list(param) + [mse, mae, rmse] + forecasted_values_FNN\n",
    "        information_FNN.append(info)\n",
    "    information_FNN_df = pd.DataFrame(information_FNN)\n",
    "    indexes = [str(i) for i in list(range(1, future_steps+1))]\n",
    "    information_FNN_df.columns = ['look_back', 'hidden_nodes', 'output_nodes', 'epochs', 'batch_size', 'future_steps', 'MSE', 'MAE', 'RMSE'] + indexes\n",
    "    return information_FNN_df"
   ]
  },
  {
   "cell_type": "code",
   "execution_count": null,
   "id": "f6581707",
   "metadata": {},
   "outputs": [],
   "source": []
  }
 ],
 "metadata": {
  "kernelspec": {
   "display_name": "Python 3 (ipykernel)",
   "language": "python",
   "name": "python3"
  },
  "language_info": {
   "codemirror_mode": {
    "name": "ipython",
    "version": 3
   },
   "file_extension": ".py",
   "mimetype": "text/x-python",
   "name": "python",
   "nbconvert_exporter": "python",
   "pygments_lexer": "ipython3",
   "version": "3.10.4"
  }
 },
 "nbformat": 4,
 "nbformat_minor": 5
}
