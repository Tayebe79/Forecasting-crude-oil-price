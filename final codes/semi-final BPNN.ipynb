{
 "cells": [
  {
   "cell_type": "code",
   "execution_count": 1,
   "id": "8b2d59c1",
   "metadata": {},
   "outputs": [],
   "source": [
    "import numpy as np\n",
    "import pandas as pd\n",
    "from sklearn.datasets import load_iris\n",
    "from sklearn.model_selection import train_test_split\n",
    "import matplotlib.pyplot as plt\n",
    "import matplotlib.pyplot as plt\n",
    "import pandas as pd\n",
    " \n",
    "from sklearn.metrics import mean_squared_error, r2_score, accuracy_score, mean_absolute_error\n",
    "from sklearn.preprocessing import StandardScaler, MinMaxScaler\n",
    "from sklearn.model_selection import  train_test_split\n",
    " \n",
    "import tensorflow as tf\n",
    "from tensorflow.keras import regularizers\n",
    "import pandas as pd\n",
    "from random import seed\n",
    "from random import random\n",
    "# seed the generator\n",
    "#np.random.seed(123)\n",
    "#tf.random.set_seed(1234)"
   ]
  },
  {
   "cell_type": "code",
   "execution_count": 2,
   "id": "8f2ae4b0",
   "metadata": {},
   "outputs": [],
   "source": [
    "import pandas as pd\n",
    "data = pd.read_excel('crude oil dataset/Brent 6monthly2020 - Copy.xlsx')\n",
    "data = data.set_index('Month')"
   ]
  },
  {
   "cell_type": "code",
   "execution_count": 3,
   "id": "858fe85d",
   "metadata": {},
   "outputs": [
    {
     "data": {
      "text/html": [
       "<div>\n",
       "<style scoped>\n",
       "    .dataframe tbody tr th:only-of-type {\n",
       "        vertical-align: middle;\n",
       "    }\n",
       "\n",
       "    .dataframe tbody tr th {\n",
       "        vertical-align: top;\n",
       "    }\n",
       "\n",
       "    .dataframe thead th {\n",
       "        text-align: right;\n",
       "    }\n",
       "</style>\n",
       "<table border=\"1\" class=\"dataframe\">\n",
       "  <thead>\n",
       "    <tr style=\"text-align: right;\">\n",
       "      <th></th>\n",
       "      <th>real</th>\n",
       "      <th>t</th>\n",
       "    </tr>\n",
       "    <tr>\n",
       "      <th>Month</th>\n",
       "      <th></th>\n",
       "      <th></th>\n",
       "    </tr>\n",
       "  </thead>\n",
       "  <tbody>\n",
       "    <tr>\n",
       "      <th>Oct 2021</th>\n",
       "      <td>89.941667</td>\n",
       "      <td>74.49</td>\n",
       "    </tr>\n",
       "    <tr>\n",
       "      <th>Nov 2021</th>\n",
       "      <td>93.448333</td>\n",
       "      <td>83.54</td>\n",
       "    </tr>\n",
       "    <tr>\n",
       "      <th>Dec 2021</th>\n",
       "      <td>98.830000</td>\n",
       "      <td>81.05</td>\n",
       "    </tr>\n",
       "    <tr>\n",
       "      <th>Jan 2022</th>\n",
       "      <td>106.920000</td>\n",
       "      <td>74.17</td>\n",
       "    </tr>\n",
       "    <tr>\n",
       "      <th>Feb 2022</th>\n",
       "      <td>111.156667</td>\n",
       "      <td>86.51</td>\n",
       "    </tr>\n",
       "  </tbody>\n",
       "</table>\n",
       "</div>"
      ],
      "text/plain": [
       "                real      t\n",
       "Month                      \n",
       "Oct 2021   89.941667  74.49\n",
       "Nov 2021   93.448333  83.54\n",
       "Dec 2021   98.830000  81.05\n",
       "Jan 2022  106.920000  74.17\n",
       "Feb 2022  111.156667  86.51"
      ]
     },
     "execution_count": 3,
     "metadata": {},
     "output_type": "execute_result"
    }
   ],
   "source": [
    "data.tail()"
   ]
  },
  {
   "cell_type": "code",
   "execution_count": 4,
   "id": "e2eb30c0",
   "metadata": {},
   "outputs": [],
   "source": [
    "def series_to_supervised(data, n_in=1, n_out=1, dropnan=True):\n",
    "    n_vars = 1 if type(data) is list else data.shape[1]\n",
    "    df = pd.DataFrame(data)\n",
    "    cols, names = list(), list()\n",
    "    # input sequence (t-n, ... t-1)\n",
    "    for i in range(n_in, 0, -1):\n",
    "        cols.append(df.shift(i))\n",
    "        names += [('var%d(t-%d)' % (j+1, i)) for j in range(n_vars)]\n",
    "    # forecast sequence (t, t+1, ... t+n)\n",
    "    for i in range(0, n_out):\n",
    "        cols.append(df.shift(-i))\n",
    "        if i == 0:\n",
    "            names += [('var%d(t)' % (j+1)) for j in range(n_vars)]\n",
    "        else:\n",
    "            names += [('var%d(t+%d)' % (j+1, i)) for j in range(n_vars)]\n",
    "    # put it all together\n",
    "    agg = pd.concat(cols, axis=1)\n",
    "    agg.columns = names\n",
    "    # drop rows with NaN values\n",
    "    if dropnan:\n",
    "        agg.dropna(inplace=True)\n",
    "    return agg"
   ]
  },
  {
   "cell_type": "code",
   "execution_count": 5,
   "id": "2af87699",
   "metadata": {},
   "outputs": [],
   "source": [
    "values = data.values\n",
    "values = values.astype('float32')"
   ]
  },
  {
   "cell_type": "code",
   "execution_count": 6,
   "id": "0ae4e38f",
   "metadata": {},
   "outputs": [
    {
     "data": {
      "text/plain": [
       "Index(['var1(t-2)', 'var2(t-2)', 'var1(t-1)', 'var2(t-1)', 'var1(t)',\n",
       "       'var2(t)'],\n",
       "      dtype='object')"
      ]
     },
     "execution_count": 6,
     "metadata": {},
     "output_type": "execute_result"
    }
   ],
   "source": [
    "ab= series_to_supervised(values,2,1)\n",
    "ab.columns"
   ]
  },
  {
   "cell_type": "code",
   "execution_count": 7,
   "id": "6569c3dc",
   "metadata": {},
   "outputs": [
    {
     "data": {
      "text/html": [
       "<div>\n",
       "<style scoped>\n",
       "    .dataframe tbody tr th:only-of-type {\n",
       "        vertical-align: middle;\n",
       "    }\n",
       "\n",
       "    .dataframe tbody tr th {\n",
       "        vertical-align: top;\n",
       "    }\n",
       "\n",
       "    .dataframe thead th {\n",
       "        text-align: right;\n",
       "    }\n",
       "</style>\n",
       "<table border=\"1\" class=\"dataframe\">\n",
       "  <thead>\n",
       "    <tr style=\"text-align: right;\">\n",
       "      <th></th>\n",
       "      <th>var1(t-2)</th>\n",
       "      <th>var2(t-2)</th>\n",
       "      <th>var1(t-1)</th>\n",
       "      <th>var2(t-1)</th>\n",
       "      <th>var1(t)</th>\n",
       "    </tr>\n",
       "  </thead>\n",
       "  <tbody>\n",
       "    <tr>\n",
       "      <th>17</th>\n",
       "      <td>78.418335</td>\n",
       "      <td>75.169998</td>\n",
       "      <td>82.815002</td>\n",
       "      <td>70.750000</td>\n",
       "      <td>89.941666</td>\n",
       "    </tr>\n",
       "    <tr>\n",
       "      <th>18</th>\n",
       "      <td>82.815002</td>\n",
       "      <td>70.750000</td>\n",
       "      <td>89.941666</td>\n",
       "      <td>74.489998</td>\n",
       "      <td>93.448334</td>\n",
       "    </tr>\n",
       "    <tr>\n",
       "      <th>19</th>\n",
       "      <td>89.941666</td>\n",
       "      <td>74.489998</td>\n",
       "      <td>93.448334</td>\n",
       "      <td>83.540001</td>\n",
       "      <td>98.830002</td>\n",
       "    </tr>\n",
       "    <tr>\n",
       "      <th>20</th>\n",
       "      <td>93.448334</td>\n",
       "      <td>83.540001</td>\n",
       "      <td>98.830002</td>\n",
       "      <td>81.050003</td>\n",
       "      <td>106.919998</td>\n",
       "    </tr>\n",
       "    <tr>\n",
       "      <th>21</th>\n",
       "      <td>98.830002</td>\n",
       "      <td>81.050003</td>\n",
       "      <td>106.919998</td>\n",
       "      <td>74.169998</td>\n",
       "      <td>111.156670</td>\n",
       "    </tr>\n",
       "  </tbody>\n",
       "</table>\n",
       "</div>"
      ],
      "text/plain": [
       "    var1(t-2)  var2(t-2)   var1(t-1)  var2(t-1)     var1(t)\n",
       "17  78.418335  75.169998   82.815002  70.750000   89.941666\n",
       "18  82.815002  70.750000   89.941666  74.489998   93.448334\n",
       "19  89.941666  74.489998   93.448334  83.540001   98.830002\n",
       "20  93.448334  83.540001   98.830002  81.050003  106.919998\n",
       "21  98.830002  81.050003  106.919998  74.169998  111.156670"
      ]
     },
     "execution_count": 7,
     "metadata": {},
     "output_type": "execute_result"
    }
   ],
   "source": [
    "reframed = series_to_supervised(values,2,1)\n",
    "# drop columns we don't want to predict. var1(t) should NOT be dropped. all the var1(t+j) columns MUST be dropped.\n",
    "#sometimes, vari(t+j) columns need to be dropped as well, depending on the question\n",
    "reframed.drop(reframed.columns[[5]], axis=1, inplace=True)\n",
    "\n",
    "reframed.tail()"
   ]
  },
  {
   "cell_type": "code",
   "execution_count": 8,
   "id": "09e4ec55",
   "metadata": {},
   "outputs": [
    {
     "data": {
      "text/html": [
       "<div>\n",
       "<style scoped>\n",
       "    .dataframe tbody tr th:only-of-type {\n",
       "        vertical-align: middle;\n",
       "    }\n",
       "\n",
       "    .dataframe tbody tr th {\n",
       "        vertical-align: top;\n",
       "    }\n",
       "\n",
       "    .dataframe thead th {\n",
       "        text-align: right;\n",
       "    }\n",
       "</style>\n",
       "<table border=\"1\" class=\"dataframe\">\n",
       "  <thead>\n",
       "    <tr style=\"text-align: right;\">\n",
       "      <th></th>\n",
       "      <th>var1(t-2)</th>\n",
       "      <th>var2(t-2)</th>\n",
       "      <th>var1(t-1)</th>\n",
       "      <th>var2(t-1)</th>\n",
       "      <th>var1(t)</th>\n",
       "    </tr>\n",
       "  </thead>\n",
       "  <tbody>\n",
       "    <tr>\n",
       "      <th>17</th>\n",
       "      <td>0.541277</td>\n",
       "      <td>0.833553</td>\n",
       "      <td>0.602882</td>\n",
       "      <td>0.768677</td>\n",
       "      <td>0.702739</td>\n",
       "    </tr>\n",
       "    <tr>\n",
       "      <th>18</th>\n",
       "      <td>0.602882</td>\n",
       "      <td>0.768677</td>\n",
       "      <td>0.702739</td>\n",
       "      <td>0.823573</td>\n",
       "      <td>0.751874</td>\n",
       "    </tr>\n",
       "    <tr>\n",
       "      <th>19</th>\n",
       "      <td>0.702739</td>\n",
       "      <td>0.823573</td>\n",
       "      <td>0.751874</td>\n",
       "      <td>0.956407</td>\n",
       "      <td>0.827281</td>\n",
       "    </tr>\n",
       "    <tr>\n",
       "      <th>20</th>\n",
       "      <td>0.751874</td>\n",
       "      <td>0.956407</td>\n",
       "      <td>0.827281</td>\n",
       "      <td>0.919859</td>\n",
       "      <td>0.940637</td>\n",
       "    </tr>\n",
       "    <tr>\n",
       "      <th>21</th>\n",
       "      <td>0.827281</td>\n",
       "      <td>0.919859</td>\n",
       "      <td>0.940637</td>\n",
       "      <td>0.818876</td>\n",
       "      <td>1.000000</td>\n",
       "    </tr>\n",
       "  </tbody>\n",
       "</table>\n",
       "</div>"
      ],
      "text/plain": [
       "    var1(t-2)  var2(t-2)  var1(t-1)  var2(t-1)   var1(t)\n",
       "17   0.541277   0.833553   0.602882   0.768677  0.702739\n",
       "18   0.602882   0.768677   0.702739   0.823573  0.751874\n",
       "19   0.702739   0.823573   0.751874   0.956407  0.827281\n",
       "20   0.751874   0.956407   0.827281   0.919859  0.940637\n",
       "21   0.827281   0.919859   0.940637   0.818876  1.000000"
      ]
     },
     "execution_count": 8,
     "metadata": {},
     "output_type": "execute_result"
    }
   ],
   "source": [
    "scaler = MinMaxScaler(feature_range=(0,1))\n",
    "scaled = scaler.fit_transform(values)\n",
    "reframed = series_to_supervised(scaled,2,1)\n",
    "# drop columns we don't want to predict. var1(t) should NOT be dropped. all the var1(t+j) columns MUST be dropped.\n",
    "#sometimes, vari(t+j) columns need to be dropped as well, depending on the question\n",
    "reframed.drop(reframed.columns[[5]], axis=1, inplace=True)\n",
    "reframed.tail()\n"
   ]
  },
  {
   "cell_type": "code",
   "execution_count": 9,
   "id": "6a767dda",
   "metadata": {},
   "outputs": [],
   "source": [
    "values = reframed.values\n",
    "\n",
    "#pay attention here, for predicting the next 6 month in one go, the testing set need to be at least\n",
    "# 5 points after the training set\n",
    "n_train = 12\n",
    "train = values[:n_train]\n",
    "#val = values[n_train:n_train+10]\n",
    "test = values[n_train+5:]\n",
    "trainX,trainY = train[:,:-1],train[:,-1]\n",
    "testX,testY = test[:,:-1],test[:,-1]\n",
    "\n",
    "#valX,valY=val[:,:-1],val[:,-1]\n"
   ]
  },
  {
   "cell_type": "code",
   "execution_count": 10,
   "id": "9f5ec8b6",
   "metadata": {},
   "outputs": [
    {
     "name": "stdout",
     "output_type": "stream",
     "text": [
      "(12, 4) (12,) (3, 4) (3,)\n"
     ]
    }
   ],
   "source": [
    "print(trainX.shape,trainY.shape,testX.shape,testY.shape)"
   ]
  },
  {
   "cell_type": "code",
   "execution_count": 11,
   "id": "c71ef914",
   "metadata": {},
   "outputs": [],
   "source": [
    "trainX = trainX.reshape(trainX.shape[0],1,trainX.shape[1])\n",
    "testX = testX.reshape(testX.shape[0],1,testX.shape[1])\n",
    "#valX = valX.reshape(valX.shape[0],1,valX.shape[1])"
   ]
  },
  {
   "cell_type": "code",
   "execution_count": 12,
   "id": "99e9a1bb",
   "metadata": {},
   "outputs": [
    {
     "name": "stdout",
     "output_type": "stream",
     "text": [
      "(12, 1, 4)\n",
      "(3, 1, 4)\n"
     ]
    }
   ],
   "source": [
    "print(trainX.shape)\n",
    "print(testX.shape)"
   ]
  },
  {
   "cell_type": "code",
   "execution_count": 13,
   "id": "2ba07b4f",
   "metadata": {},
   "outputs": [
    {
     "name": "stdout",
     "output_type": "stream",
     "text": [
      "Model: \"sequential\"\n",
      "_________________________________________________________________\n",
      " Layer (type)                Output Shape              Param #   \n",
      "=================================================================\n",
      " dense (Dense)               (None, 1, 5)              25        \n",
      "                                                                 \n",
      " dense_1 (Dense)             (None, 1, 1)              6         \n",
      "                                                                 \n",
      "=================================================================\n",
      "Total params: 31\n",
      "Trainable params: 31\n",
      "Non-trainable params: 0\n",
      "_________________________________________________________________\n"
     ]
    }
   ],
   "source": [
    "model = tf.keras.Sequential([\n",
    "tf.keras.layers.Dense(5, activation='relu',input_shape=(trainX.shape[1],trainX.shape[2])),\n",
    "#tf.keras.layers.Dense(3, activation='relu'),\n",
    "#tf.keras.layers.Dense(2, activation='relu'),\n",
    "tf.keras.layers.Dense(1)\n",
    "])\n",
    "model.compile(loss='mean_absolute_error', optimizer=tf.keras.optimizers.Adam(learning_rate=0.0005))\n",
    "model.summary()\n",
    "\n",
    "#save the model by decommenting the next line\n",
    "#tf.keras.models.save_model(model=model, filepath='tmp/modelrmse14mae11')\n"
   ]
  },
  {
   "cell_type": "code",
   "execution_count": 14,
   "id": "5d5c27ad",
   "metadata": {},
   "outputs": [
    {
     "name": "stdout",
     "output_type": "stream",
     "text": [
      "Epoch 1/200\n",
      "1/1 - 1s - loss: 0.4738 - val_loss: 1.2137 - 713ms/epoch - 713ms/step\n",
      "Epoch 2/200\n",
      "1/1 - 0s - loss: 0.4695 - val_loss: 1.2053 - 20ms/epoch - 20ms/step\n",
      "Epoch 3/200\n",
      "1/1 - 0s - loss: 0.4651 - val_loss: 1.1969 - 21ms/epoch - 21ms/step\n",
      "Epoch 4/200\n",
      "1/1 - 0s - loss: 0.4608 - val_loss: 1.1886 - 19ms/epoch - 19ms/step\n",
      "Epoch 5/200\n",
      "1/1 - 0s - loss: 0.4564 - val_loss: 1.1802 - 22ms/epoch - 22ms/step\n",
      "Epoch 6/200\n",
      "1/1 - 0s - loss: 0.4521 - val_loss: 1.1718 - 21ms/epoch - 21ms/step\n",
      "Epoch 7/200\n",
      "1/1 - 0s - loss: 0.4477 - val_loss: 1.1635 - 20ms/epoch - 20ms/step\n",
      "Epoch 8/200\n",
      "1/1 - 0s - loss: 0.4434 - val_loss: 1.1551 - 20ms/epoch - 20ms/step\n",
      "Epoch 9/200\n",
      "1/1 - 0s - loss: 0.4390 - val_loss: 1.1468 - 20ms/epoch - 20ms/step\n",
      "Epoch 10/200\n",
      "1/1 - 0s - loss: 0.4347 - val_loss: 1.1384 - 21ms/epoch - 21ms/step\n",
      "Epoch 11/200\n",
      "1/1 - 0s - loss: 0.4304 - val_loss: 1.1301 - 19ms/epoch - 19ms/step\n",
      "Epoch 12/200\n",
      "1/1 - 0s - loss: 0.4260 - val_loss: 1.1217 - 21ms/epoch - 21ms/step\n",
      "Epoch 13/200\n",
      "1/1 - 0s - loss: 0.4217 - val_loss: 1.1134 - 20ms/epoch - 20ms/step\n",
      "Epoch 14/200\n",
      "1/1 - 0s - loss: 0.4174 - val_loss: 1.1050 - 20ms/epoch - 20ms/step\n",
      "Epoch 15/200\n",
      "1/1 - 0s - loss: 0.4130 - val_loss: 1.0967 - 20ms/epoch - 20ms/step\n",
      "Epoch 16/200\n",
      "1/1 - 0s - loss: 0.4087 - val_loss: 1.0884 - 22ms/epoch - 22ms/step\n",
      "Epoch 17/200\n",
      "1/1 - 0s - loss: 0.4044 - val_loss: 1.0800 - 20ms/epoch - 20ms/step\n",
      "Epoch 18/200\n",
      "1/1 - 0s - loss: 0.4000 - val_loss: 1.0717 - 21ms/epoch - 21ms/step\n",
      "Epoch 19/200\n",
      "1/1 - 0s - loss: 0.3957 - val_loss: 1.0634 - 19ms/epoch - 19ms/step\n",
      "Epoch 20/200\n",
      "1/1 - 0s - loss: 0.3914 - val_loss: 1.0551 - 21ms/epoch - 21ms/step\n",
      "Epoch 21/200\n",
      "1/1 - 0s - loss: 0.3870 - val_loss: 1.0467 - 20ms/epoch - 20ms/step\n",
      "Epoch 22/200\n",
      "1/1 - 0s - loss: 0.3827 - val_loss: 1.0384 - 21ms/epoch - 21ms/step\n",
      "Epoch 23/200\n",
      "1/1 - 0s - loss: 0.3784 - val_loss: 1.0301 - 20ms/epoch - 20ms/step\n",
      "Epoch 24/200\n",
      "1/1 - 0s - loss: 0.3741 - val_loss: 1.0218 - 22ms/epoch - 22ms/step\n",
      "Epoch 25/200\n",
      "1/1 - 0s - loss: 0.3697 - val_loss: 1.0135 - 23ms/epoch - 23ms/step\n",
      "Epoch 26/200\n",
      "1/1 - 0s - loss: 0.3654 - val_loss: 1.0052 - 20ms/epoch - 20ms/step\n",
      "Epoch 27/200\n",
      "1/1 - 0s - loss: 0.3611 - val_loss: 0.9969 - 20ms/epoch - 20ms/step\n",
      "Epoch 28/200\n",
      "1/1 - 0s - loss: 0.3568 - val_loss: 0.9886 - 22ms/epoch - 22ms/step\n",
      "Epoch 29/200\n",
      "1/1 - 0s - loss: 0.3525 - val_loss: 0.9803 - 23ms/epoch - 23ms/step\n",
      "Epoch 30/200\n",
      "1/1 - 0s - loss: 0.3482 - val_loss: 0.9720 - 23ms/epoch - 23ms/step\n",
      "Epoch 31/200\n",
      "1/1 - 0s - loss: 0.3439 - val_loss: 0.9637 - 20ms/epoch - 20ms/step\n",
      "Epoch 32/200\n",
      "1/1 - 0s - loss: 0.3395 - val_loss: 0.9554 - 20ms/epoch - 20ms/step\n",
      "Epoch 33/200\n",
      "1/1 - 0s - loss: 0.3352 - val_loss: 0.9471 - 22ms/epoch - 22ms/step\n",
      "Epoch 34/200\n",
      "1/1 - 0s - loss: 0.3309 - val_loss: 0.9389 - 21ms/epoch - 21ms/step\n",
      "Epoch 35/200\n",
      "1/1 - 0s - loss: 0.3266 - val_loss: 0.9306 - 21ms/epoch - 21ms/step\n",
      "Epoch 36/200\n",
      "1/1 - 0s - loss: 0.3223 - val_loss: 0.9223 - 22ms/epoch - 22ms/step\n",
      "Epoch 37/200\n",
      "1/1 - 0s - loss: 0.3180 - val_loss: 0.9140 - 20ms/epoch - 20ms/step\n",
      "Epoch 38/200\n",
      "1/1 - 0s - loss: 0.3137 - val_loss: 0.9058 - 19ms/epoch - 19ms/step\n",
      "Epoch 39/200\n",
      "1/1 - 0s - loss: 0.3094 - val_loss: 0.8975 - 21ms/epoch - 21ms/step\n",
      "Epoch 40/200\n",
      "1/1 - 0s - loss: 0.3051 - val_loss: 0.8893 - 21ms/epoch - 21ms/step\n",
      "Epoch 41/200\n",
      "1/1 - 0s - loss: 0.3008 - val_loss: 0.8810 - 20ms/epoch - 20ms/step\n",
      "Epoch 42/200\n",
      "1/1 - 0s - loss: 0.2965 - val_loss: 0.8727 - 20ms/epoch - 20ms/step\n",
      "Epoch 43/200\n",
      "1/1 - 0s - loss: 0.2922 - val_loss: 0.8645 - 21ms/epoch - 21ms/step\n",
      "Epoch 44/200\n",
      "1/1 - 0s - loss: 0.2879 - val_loss: 0.8562 - 22ms/epoch - 22ms/step\n",
      "Epoch 45/200\n",
      "1/1 - 0s - loss: 0.2837 - val_loss: 0.8480 - 19ms/epoch - 19ms/step\n",
      "Epoch 46/200\n",
      "1/1 - 0s - loss: 0.2794 - val_loss: 0.8398 - 20ms/epoch - 20ms/step\n",
      "Epoch 47/200\n",
      "1/1 - 0s - loss: 0.2751 - val_loss: 0.8315 - 22ms/epoch - 22ms/step\n",
      "Epoch 48/200\n",
      "1/1 - 0s - loss: 0.2708 - val_loss: 0.8233 - 20ms/epoch - 20ms/step\n",
      "Epoch 49/200\n",
      "1/1 - 0s - loss: 0.2667 - val_loss: 0.8151 - 19ms/epoch - 19ms/step\n",
      "Epoch 50/200\n",
      "1/1 - 0s - loss: 0.2627 - val_loss: 0.8069 - 21ms/epoch - 21ms/step\n",
      "Epoch 51/200\n",
      "1/1 - 0s - loss: 0.2587 - val_loss: 0.7988 - 22ms/epoch - 22ms/step\n",
      "Epoch 52/200\n",
      "1/1 - 0s - loss: 0.2549 - val_loss: 0.7908 - 20ms/epoch - 20ms/step\n",
      "Epoch 53/200\n",
      "1/1 - 0s - loss: 0.2513 - val_loss: 0.7829 - 21ms/epoch - 21ms/step\n",
      "Epoch 54/200\n",
      "1/1 - 0s - loss: 0.2477 - val_loss: 0.7750 - 24ms/epoch - 24ms/step\n",
      "Epoch 55/200\n",
      "1/1 - 0s - loss: 0.2443 - val_loss: 0.7672 - 20ms/epoch - 20ms/step\n",
      "Epoch 56/200\n",
      "1/1 - 0s - loss: 0.2410 - val_loss: 0.7596 - 21ms/epoch - 21ms/step\n",
      "Epoch 57/200\n",
      "1/1 - 0s - loss: 0.2378 - val_loss: 0.7520 - 22ms/epoch - 22ms/step\n",
      "Epoch 58/200\n",
      "1/1 - 0s - loss: 0.2346 - val_loss: 0.7445 - 20ms/epoch - 20ms/step\n",
      "Epoch 59/200\n",
      "1/1 - 0s - loss: 0.2316 - val_loss: 0.7371 - 19ms/epoch - 19ms/step\n",
      "Epoch 60/200\n",
      "1/1 - 0s - loss: 0.2287 - val_loss: 0.7298 - 19ms/epoch - 19ms/step\n",
      "Epoch 61/200\n",
      "1/1 - 0s - loss: 0.2259 - val_loss: 0.7226 - 19ms/epoch - 19ms/step\n",
      "Epoch 62/200\n",
      "1/1 - 0s - loss: 0.2232 - val_loss: 0.7156 - 19ms/epoch - 19ms/step\n",
      "Epoch 63/200\n",
      "1/1 - 0s - loss: 0.2206 - val_loss: 0.7086 - 20ms/epoch - 20ms/step\n",
      "Epoch 64/200\n",
      "1/1 - 0s - loss: 0.2180 - val_loss: 0.7017 - 19ms/epoch - 19ms/step\n",
      "Epoch 65/200\n",
      "1/1 - 0s - loss: 0.2156 - val_loss: 0.6950 - 19ms/epoch - 19ms/step\n",
      "Epoch 66/200\n",
      "1/1 - 0s - loss: 0.2133 - val_loss: 0.6883 - 21ms/epoch - 21ms/step\n",
      "Epoch 67/200\n",
      "1/1 - 0s - loss: 0.2110 - val_loss: 0.6818 - 20ms/epoch - 20ms/step\n",
      "Epoch 68/200\n",
      "1/1 - 0s - loss: 0.2087 - val_loss: 0.6753 - 19ms/epoch - 19ms/step\n",
      "Epoch 69/200\n",
      "1/1 - 0s - loss: 0.2065 - val_loss: 0.6689 - 21ms/epoch - 21ms/step\n",
      "Epoch 70/200\n",
      "1/1 - 0s - loss: 0.2043 - val_loss: 0.6626 - 18ms/epoch - 18ms/step\n",
      "Epoch 71/200\n",
      "1/1 - 0s - loss: 0.2023 - val_loss: 0.6564 - 20ms/epoch - 20ms/step\n",
      "Epoch 72/200\n",
      "1/1 - 0s - loss: 0.2003 - val_loss: 0.6503 - 19ms/epoch - 19ms/step\n",
      "Epoch 73/200\n",
      "1/1 - 0s - loss: 0.1985 - val_loss: 0.6443 - 18ms/epoch - 18ms/step\n",
      "Epoch 74/200\n",
      "1/1 - 0s - loss: 0.1967 - val_loss: 0.6384 - 19ms/epoch - 19ms/step\n",
      "Epoch 75/200\n",
      "1/1 - 0s - loss: 0.1950 - val_loss: 0.6327 - 28ms/epoch - 28ms/step\n",
      "Epoch 76/200\n",
      "1/1 - 0s - loss: 0.1934 - val_loss: 0.6270 - 23ms/epoch - 23ms/step\n",
      "Epoch 77/200\n",
      "1/1 - 0s - loss: 0.1918 - val_loss: 0.6214 - 19ms/epoch - 19ms/step\n",
      "Epoch 78/200\n",
      "1/1 - 0s - loss: 0.1903 - val_loss: 0.6159 - 20ms/epoch - 20ms/step\n",
      "Epoch 79/200\n",
      "1/1 - 0s - loss: 0.1889 - val_loss: 0.6105 - 19ms/epoch - 19ms/step\n",
      "Epoch 80/200\n",
      "1/1 - 0s - loss: 0.1875 - val_loss: 0.6052 - 20ms/epoch - 20ms/step\n",
      "Epoch 81/200\n",
      "1/1 - 0s - loss: 0.1861 - val_loss: 0.6000 - 18ms/epoch - 18ms/step\n",
      "Epoch 82/200\n",
      "1/1 - 0s - loss: 0.1848 - val_loss: 0.5949 - 19ms/epoch - 19ms/step\n",
      "Epoch 83/200\n",
      "1/1 - 0s - loss: 0.1834 - val_loss: 0.5898 - 19ms/epoch - 19ms/step\n",
      "Epoch 84/200\n",
      "1/1 - 0s - loss: 0.1821 - val_loss: 0.5848 - 19ms/epoch - 19ms/step\n",
      "Epoch 85/200\n",
      "1/1 - 0s - loss: 0.1809 - val_loss: 0.5798 - 21ms/epoch - 21ms/step\n",
      "Epoch 86/200\n",
      "1/1 - 0s - loss: 0.1797 - val_loss: 0.5750 - 19ms/epoch - 19ms/step\n",
      "Epoch 87/200\n",
      "1/1 - 0s - loss: 0.1785 - val_loss: 0.5702 - 22ms/epoch - 22ms/step\n",
      "Epoch 88/200\n",
      "1/1 - 0s - loss: 0.1773 - val_loss: 0.5654 - 19ms/epoch - 19ms/step\n",
      "Epoch 89/200\n",
      "1/1 - 0s - loss: 0.1762 - val_loss: 0.5608 - 19ms/epoch - 19ms/step\n",
      "Epoch 90/200\n",
      "1/1 - 0s - loss: 0.1752 - val_loss: 0.5562 - 18ms/epoch - 18ms/step\n",
      "Epoch 91/200\n",
      "1/1 - 0s - loss: 0.1742 - val_loss: 0.5517 - 20ms/epoch - 20ms/step\n",
      "Epoch 92/200\n",
      "1/1 - 0s - loss: 0.1732 - val_loss: 0.5473 - 19ms/epoch - 19ms/step\n",
      "Epoch 93/200\n",
      "1/1 - 0s - loss: 0.1724 - val_loss: 0.5430 - 20ms/epoch - 20ms/step\n",
      "Epoch 94/200\n",
      "1/1 - 0s - loss: 0.1715 - val_loss: 0.5387 - 19ms/epoch - 19ms/step\n",
      "Epoch 95/200\n",
      "1/1 - 0s - loss: 0.1707 - val_loss: 0.5346 - 20ms/epoch - 20ms/step\n",
      "Epoch 96/200\n",
      "1/1 - 0s - loss: 0.1699 - val_loss: 0.5305 - 18ms/epoch - 18ms/step\n",
      "Epoch 97/200\n",
      "1/1 - 0s - loss: 0.1691 - val_loss: 0.5265 - 19ms/epoch - 19ms/step\n",
      "Epoch 98/200\n",
      "1/1 - 0s - loss: 0.1684 - val_loss: 0.5226 - 19ms/epoch - 19ms/step\n",
      "Epoch 99/200\n",
      "1/1 - 0s - loss: 0.1676 - val_loss: 0.5187 - 19ms/epoch - 19ms/step\n",
      "Epoch 100/200\n",
      "1/1 - 0s - loss: 0.1669 - val_loss: 0.5149 - 20ms/epoch - 20ms/step\n",
      "Epoch 101/200\n",
      "1/1 - 0s - loss: 0.1663 - val_loss: 0.5112 - 19ms/epoch - 19ms/step\n",
      "Epoch 102/200\n",
      "1/1 - 0s - loss: 0.1656 - val_loss: 0.5075 - 19ms/epoch - 19ms/step\n"
     ]
    },
    {
     "name": "stdout",
     "output_type": "stream",
     "text": [
      "Epoch 103/200\n",
      "1/1 - 0s - loss: 0.1650 - val_loss: 0.5039 - 18ms/epoch - 18ms/step\n",
      "Epoch 104/200\n",
      "1/1 - 0s - loss: 0.1644 - val_loss: 0.5003 - 19ms/epoch - 19ms/step\n",
      "Epoch 105/200\n",
      "1/1 - 0s - loss: 0.1638 - val_loss: 0.4969 - 19ms/epoch - 19ms/step\n",
      "Epoch 106/200\n",
      "1/1 - 0s - loss: 0.1633 - val_loss: 0.4935 - 18ms/epoch - 18ms/step\n",
      "Epoch 107/200\n",
      "1/1 - 0s - loss: 0.1628 - val_loss: 0.4902 - 19ms/epoch - 19ms/step\n",
      "Epoch 108/200\n",
      "1/1 - 0s - loss: 0.1623 - val_loss: 0.4869 - 18ms/epoch - 18ms/step\n",
      "Epoch 109/200\n",
      "1/1 - 0s - loss: 0.1618 - val_loss: 0.4837 - 20ms/epoch - 20ms/step\n",
      "Epoch 110/200\n",
      "1/1 - 0s - loss: 0.1613 - val_loss: 0.4806 - 20ms/epoch - 20ms/step\n",
      "Epoch 111/200\n",
      "1/1 - 0s - loss: 0.1608 - val_loss: 0.4775 - 18ms/epoch - 18ms/step\n",
      "Epoch 112/200\n",
      "1/1 - 0s - loss: 0.1603 - val_loss: 0.4744 - 18ms/epoch - 18ms/step\n",
      "Epoch 113/200\n",
      "1/1 - 0s - loss: 0.1599 - val_loss: 0.4714 - 20ms/epoch - 20ms/step\n",
      "Epoch 114/200\n",
      "1/1 - 0s - loss: 0.1594 - val_loss: 0.4684 - 19ms/epoch - 19ms/step\n",
      "Epoch 115/200\n",
      "1/1 - 0s - loss: 0.1590 - val_loss: 0.4655 - 19ms/epoch - 19ms/step\n",
      "Epoch 116/200\n",
      "1/1 - 0s - loss: 0.1586 - val_loss: 0.4626 - 18ms/epoch - 18ms/step\n",
      "Epoch 117/200\n",
      "1/1 - 0s - loss: 0.1582 - val_loss: 0.4598 - 18ms/epoch - 18ms/step\n",
      "Epoch 118/200\n",
      "1/1 - 0s - loss: 0.1578 - val_loss: 0.4570 - 19ms/epoch - 19ms/step\n",
      "Epoch 119/200\n",
      "1/1 - 0s - loss: 0.1574 - val_loss: 0.4543 - 20ms/epoch - 20ms/step\n",
      "Epoch 120/200\n",
      "1/1 - 0s - loss: 0.1571 - val_loss: 0.4516 - 19ms/epoch - 19ms/step\n",
      "Epoch 121/200\n",
      "1/1 - 0s - loss: 0.1567 - val_loss: 0.4490 - 18ms/epoch - 18ms/step\n",
      "Epoch 122/200\n",
      "1/1 - 0s - loss: 0.1564 - val_loss: 0.4464 - 19ms/epoch - 19ms/step\n",
      "Epoch 123/200\n",
      "1/1 - 0s - loss: 0.1560 - val_loss: 0.4438 - 19ms/epoch - 19ms/step\n",
      "Epoch 124/200\n",
      "1/1 - 0s - loss: 0.1557 - val_loss: 0.4413 - 19ms/epoch - 19ms/step\n",
      "Epoch 125/200\n",
      "1/1 - 0s - loss: 0.1554 - val_loss: 0.4388 - 19ms/epoch - 19ms/step\n",
      "Epoch 126/200\n",
      "1/1 - 0s - loss: 0.1551 - val_loss: 0.4365 - 18ms/epoch - 18ms/step\n",
      "Epoch 127/200\n",
      "1/1 - 0s - loss: 0.1549 - val_loss: 0.4341 - 19ms/epoch - 19ms/step\n",
      "Epoch 128/200\n",
      "1/1 - 0s - loss: 0.1546 - val_loss: 0.4318 - 20ms/epoch - 20ms/step\n",
      "Epoch 129/200\n",
      "1/1 - 0s - loss: 0.1544 - val_loss: 0.4296 - 19ms/epoch - 19ms/step\n",
      "Epoch 130/200\n",
      "1/1 - 0s - loss: 0.1541 - val_loss: 0.4274 - 19ms/epoch - 19ms/step\n",
      "Epoch 131/200\n",
      "1/1 - 0s - loss: 0.1539 - val_loss: 0.4253 - 19ms/epoch - 19ms/step\n",
      "Epoch 132/200\n",
      "1/1 - 0s - loss: 0.1537 - val_loss: 0.4233 - 20ms/epoch - 20ms/step\n",
      "Epoch 133/200\n",
      "1/1 - 0s - loss: 0.1535 - val_loss: 0.4214 - 19ms/epoch - 19ms/step\n",
      "Epoch 134/200\n",
      "1/1 - 0s - loss: 0.1534 - val_loss: 0.4195 - 19ms/epoch - 19ms/step\n",
      "Epoch 135/200\n",
      "1/1 - 0s - loss: 0.1532 - val_loss: 0.4177 - 19ms/epoch - 19ms/step\n",
      "Epoch 136/200\n",
      "1/1 - 0s - loss: 0.1531 - val_loss: 0.4159 - 18ms/epoch - 18ms/step\n",
      "Epoch 137/200\n",
      "1/1 - 0s - loss: 0.1529 - val_loss: 0.4142 - 19ms/epoch - 19ms/step\n",
      "Epoch 138/200\n",
      "1/1 - 0s - loss: 0.1528 - val_loss: 0.4126 - 20ms/epoch - 20ms/step\n",
      "Epoch 139/200\n",
      "1/1 - 0s - loss: 0.1526 - val_loss: 0.4110 - 20ms/epoch - 20ms/step\n",
      "Epoch 140/200\n",
      "1/1 - 0s - loss: 0.1525 - val_loss: 0.4094 - 19ms/epoch - 19ms/step\n",
      "Epoch 141/200\n",
      "1/1 - 0s - loss: 0.1523 - val_loss: 0.4079 - 19ms/epoch - 19ms/step\n",
      "Epoch 142/200\n",
      "1/1 - 0s - loss: 0.1522 - val_loss: 0.4064 - 20ms/epoch - 20ms/step\n",
      "Epoch 143/200\n",
      "1/1 - 0s - loss: 0.1521 - val_loss: 0.4049 - 21ms/epoch - 21ms/step\n",
      "Epoch 144/200\n",
      "1/1 - 0s - loss: 0.1519 - val_loss: 0.4035 - 19ms/epoch - 19ms/step\n",
      "Epoch 145/200\n",
      "1/1 - 0s - loss: 0.1518 - val_loss: 0.4020 - 19ms/epoch - 19ms/step\n",
      "Epoch 146/200\n",
      "1/1 - 0s - loss: 0.1517 - val_loss: 0.4006 - 19ms/epoch - 19ms/step\n",
      "Epoch 147/200\n",
      "1/1 - 0s - loss: 0.1515 - val_loss: 0.3992 - 19ms/epoch - 19ms/step\n",
      "Epoch 148/200\n",
      "1/1 - 0s - loss: 0.1514 - val_loss: 0.3979 - 20ms/epoch - 20ms/step\n",
      "Epoch 149/200\n",
      "1/1 - 0s - loss: 0.1513 - val_loss: 0.3965 - 19ms/epoch - 19ms/step\n",
      "Epoch 150/200\n",
      "1/1 - 0s - loss: 0.1512 - val_loss: 0.3952 - 19ms/epoch - 19ms/step\n",
      "Epoch 151/200\n",
      "1/1 - 0s - loss: 0.1511 - val_loss: 0.3939 - 21ms/epoch - 21ms/step\n",
      "Epoch 152/200\n",
      "1/1 - 0s - loss: 0.1510 - val_loss: 0.3927 - 19ms/epoch - 19ms/step\n",
      "Epoch 153/200\n",
      "1/1 - 0s - loss: 0.1509 - val_loss: 0.3915 - 19ms/epoch - 19ms/step\n",
      "Epoch 154/200\n",
      "1/1 - 0s - loss: 0.1508 - val_loss: 0.3903 - 18ms/epoch - 18ms/step\n",
      "Epoch 155/200\n",
      "1/1 - 0s - loss: 0.1507 - val_loss: 0.3892 - 20ms/epoch - 20ms/step\n",
      "Epoch 156/200\n",
      "1/1 - 0s - loss: 0.1506 - val_loss: 0.3881 - 20ms/epoch - 20ms/step\n",
      "Epoch 157/200\n",
      "1/1 - 0s - loss: 0.1506 - val_loss: 0.3871 - 19ms/epoch - 19ms/step\n",
      "Epoch 158/200\n",
      "1/1 - 0s - loss: 0.1505 - val_loss: 0.3860 - 18ms/epoch - 18ms/step\n",
      "Epoch 159/200\n",
      "1/1 - 0s - loss: 0.1504 - val_loss: 0.3850 - 21ms/epoch - 21ms/step\n",
      "Epoch 160/200\n",
      "1/1 - 0s - loss: 0.1503 - val_loss: 0.3840 - 18ms/epoch - 18ms/step\n",
      "Epoch 161/200\n",
      "1/1 - 0s - loss: 0.1502 - val_loss: 0.3831 - 19ms/epoch - 19ms/step\n",
      "Epoch 162/200\n",
      "1/1 - 0s - loss: 0.1502 - val_loss: 0.3822 - 19ms/epoch - 19ms/step\n",
      "Epoch 163/200\n",
      "1/1 - 0s - loss: 0.1501 - val_loss: 0.3813 - 18ms/epoch - 18ms/step\n",
      "Epoch 164/200\n",
      "1/1 - 0s - loss: 0.1500 - val_loss: 0.3804 - 19ms/epoch - 19ms/step\n",
      "Epoch 165/200\n",
      "1/1 - 0s - loss: 0.1500 - val_loss: 0.3796 - 19ms/epoch - 19ms/step\n",
      "Epoch 166/200\n",
      "1/1 - 0s - loss: 0.1499 - val_loss: 0.3788 - 19ms/epoch - 19ms/step\n",
      "Epoch 167/200\n",
      "1/1 - 0s - loss: 0.1499 - val_loss: 0.3781 - 19ms/epoch - 19ms/step\n",
      "Epoch 168/200\n",
      "1/1 - 0s - loss: 0.1498 - val_loss: 0.3774 - 19ms/epoch - 19ms/step\n",
      "Epoch 169/200\n",
      "1/1 - 0s - loss: 0.1497 - val_loss: 0.3767 - 18ms/epoch - 18ms/step\n",
      "Epoch 170/200\n",
      "1/1 - 0s - loss: 0.1497 - val_loss: 0.3760 - 19ms/epoch - 19ms/step\n",
      "Epoch 171/200\n",
      "1/1 - 0s - loss: 0.1496 - val_loss: 0.3753 - 19ms/epoch - 19ms/step\n",
      "Epoch 172/200\n",
      "1/1 - 0s - loss: 0.1496 - val_loss: 0.3746 - 19ms/epoch - 19ms/step\n",
      "Epoch 173/200\n",
      "1/1 - 0s - loss: 0.1495 - val_loss: 0.3740 - 18ms/epoch - 18ms/step\n",
      "Epoch 174/200\n",
      "1/1 - 0s - loss: 0.1494 - val_loss: 0.3734 - 19ms/epoch - 19ms/step\n",
      "Epoch 175/200\n",
      "1/1 - 0s - loss: 0.1494 - val_loss: 0.3729 - 20ms/epoch - 20ms/step\n",
      "Epoch 176/200\n",
      "1/1 - 0s - loss: 0.1493 - val_loss: 0.3723 - 19ms/epoch - 19ms/step\n",
      "Epoch 177/200\n",
      "1/1 - 0s - loss: 0.1493 - val_loss: 0.3718 - 21ms/epoch - 21ms/step\n",
      "Epoch 178/200\n",
      "1/1 - 0s - loss: 0.1492 - val_loss: 0.3713 - 22ms/epoch - 22ms/step\n",
      "Epoch 179/200\n",
      "1/1 - 0s - loss: 0.1492 - val_loss: 0.3709 - 20ms/epoch - 20ms/step\n",
      "Epoch 180/200\n",
      "1/1 - 0s - loss: 0.1491 - val_loss: 0.3704 - 24ms/epoch - 24ms/step\n",
      "Epoch 181/200\n",
      "1/1 - 0s - loss: 0.1491 - val_loss: 0.3700 - 20ms/epoch - 20ms/step\n",
      "Epoch 182/200\n",
      "1/1 - 0s - loss: 0.1490 - val_loss: 0.3695 - 20ms/epoch - 20ms/step\n",
      "Epoch 183/200\n",
      "1/1 - 0s - loss: 0.1490 - val_loss: 0.3691 - 21ms/epoch - 21ms/step\n",
      "Epoch 184/200\n",
      "1/1 - 0s - loss: 0.1490 - val_loss: 0.3687 - 27ms/epoch - 27ms/step\n",
      "Epoch 185/200\n",
      "1/1 - 0s - loss: 0.1489 - val_loss: 0.3684 - 20ms/epoch - 20ms/step\n",
      "Epoch 186/200\n",
      "1/1 - 0s - loss: 0.1489 - val_loss: 0.3681 - 19ms/epoch - 19ms/step\n",
      "Epoch 187/200\n",
      "1/1 - 0s - loss: 0.1488 - val_loss: 0.3678 - 18ms/epoch - 18ms/step\n",
      "Epoch 188/200\n",
      "1/1 - 0s - loss: 0.1488 - val_loss: 0.3676 - 18ms/epoch - 18ms/step\n",
      "Epoch 189/200\n",
      "1/1 - 0s - loss: 0.1487 - val_loss: 0.3673 - 22ms/epoch - 22ms/step\n",
      "Epoch 190/200\n",
      "1/1 - 0s - loss: 0.1487 - val_loss: 0.3671 - 20ms/epoch - 20ms/step\n",
      "Epoch 191/200\n",
      "1/1 - 0s - loss: 0.1487 - val_loss: 0.3669 - 19ms/epoch - 19ms/step\n",
      "Epoch 192/200\n",
      "1/1 - 0s - loss: 0.1486 - val_loss: 0.3668 - 20ms/epoch - 20ms/step\n",
      "Epoch 193/200\n",
      "1/1 - 0s - loss: 0.1486 - val_loss: 0.3666 - 21ms/epoch - 21ms/step\n",
      "Epoch 194/200\n",
      "1/1 - 0s - loss: 0.1485 - val_loss: 0.3665 - 19ms/epoch - 19ms/step\n",
      "Epoch 195/200\n",
      "1/1 - 0s - loss: 0.1485 - val_loss: 0.3664 - 19ms/epoch - 19ms/step\n",
      "Epoch 196/200\n",
      "1/1 - 0s - loss: 0.1485 - val_loss: 0.3664 - 19ms/epoch - 19ms/step\n",
      "Epoch 197/200\n",
      "1/1 - 0s - loss: 0.1484 - val_loss: 0.3663 - 19ms/epoch - 19ms/step\n",
      "Epoch 198/200\n",
      "1/1 - 0s - loss: 0.1484 - val_loss: 0.3662 - 19ms/epoch - 19ms/step\n",
      "Epoch 199/200\n",
      "1/1 - 0s - loss: 0.1483 - val_loss: 0.3662 - 19ms/epoch - 19ms/step\n",
      "Epoch 200/200\n",
      "1/1 - 0s - loss: 0.1483 - val_loss: 0.3661 - 18ms/epoch - 18ms/step\n"
     ]
    }
   ],
   "source": [
    "from tensorflow.keras.callbacks import EarlyStopping\n",
    "early_stopping = EarlyStopping()\n",
    "\n",
    "history = model.fit(trainX,trainY, validation_data=(testX,testY), epochs=200, verbose=2)"
   ]
  },
  {
   "cell_type": "code",
   "execution_count": 15,
   "id": "f24f5a13",
   "metadata": {},
   "outputs": [
    {
     "data": {
      "image/png": "[encoded data removed]",
      "text/plain": [
       "<Figure size 432x288 with 1 Axes>"
      ]
     },
     "metadata": {
      "needs_background": "light"
     },
     "output_type": "display_data"
    }
   ],
   "source": [
    "plt.plot(history.history['loss'],label='train')\n",
    "plt.plot(history.history['val_loss'],label='test')\n",
    "plt.legend()\n",
    "plt.show()"
   ]
  },
  {
   "cell_type": "code",
   "execution_count": 16,
   "id": "43aa3525",
   "metadata": {},
   "outputs": [],
   "source": [
    "#load the model by decommenting the next line\n",
    "#tf.keras.models.save_model(model=model, filepath='tmp/modell')\n",
    "#del model  # deletes the existing model\n",
    "#model = tf.keras.models.load_model('tmp/noprodconsumfirstmonth1')\n",
    "predicted = model.predict(testX)"
   ]
  },
  {
   "cell_type": "code",
   "execution_count": 17,
   "id": "d16758b2",
   "metadata": {},
   "outputs": [
    {
     "name": "stdout",
     "output_type": "stream",
     "text": [
      "(3, 1, 4)\n"
     ]
    }
   ],
   "source": [
    "print(testX.shape)\n",
    "testXRe = testX.reshape(testX.shape[0],testX.shape[2])\n",
    "predicted = predicted.reshape(-1,1)"
   ]
  },
  {
   "cell_type": "code",
   "execution_count": 18,
   "id": "fd5ecf3b",
   "metadata": {},
   "outputs": [],
   "source": [
    "predicted = np.concatenate((predicted,testXRe[:,1:]),axis=1)"
   ]
  },
  {
   "cell_type": "code",
   "execution_count": 19,
   "id": "31786140",
   "metadata": {},
   "outputs": [],
   "source": [
    "predicted1 = predicted"
   ]
  },
  {
   "cell_type": "code",
   "execution_count": 20,
   "id": "e63f1544",
   "metadata": {},
   "outputs": [
    {
     "name": "stdout",
     "output_type": "stream",
     "text": [
      "[[0.5072113  0.95640683]\n",
      " [0.56380904 0.91985905]\n",
      " [0.59846836 0.81887555]]\n"
     ]
    }
   ],
   "source": [
    "#some arrangments might need to be made here.\n",
    "#sometimes more columns need to be deleted, or less. point is, shapes need to be matched.\n",
    "#make sure to NEVER delete the first column. this is the one containing the actual predictions.\n",
    "for i in range(0,predicted.shape[1]-2):\n",
    "    predicted = np.delete(predicted,1,1)\n",
    "print(predicted)"
   ]
  },
  {
   "cell_type": "code",
   "execution_count": 21,
   "id": "36d86e01",
   "metadata": {},
   "outputs": [],
   "source": [
    "predicted = scaler.inverse_transform(predicted)"
   ]
  },
  {
   "cell_type": "code",
   "execution_count": 22,
   "id": "141a7dad",
   "metadata": {},
   "outputs": [],
   "source": [
    "testY = testY.reshape(len(testY),1)"
   ]
  },
  {
   "cell_type": "code",
   "execution_count": 23,
   "id": "29056f24",
   "metadata": {},
   "outputs": [],
   "source": [
    "testY = np.concatenate((testY,testXRe[:,1:]),axis=1)"
   ]
  },
  {
   "cell_type": "code",
   "execution_count": 24,
   "id": "6586accc",
   "metadata": {},
   "outputs": [],
   "source": [
    "#some arrangments might need to be made here.\n",
    "#sometimes more columns need to be deleted, or less. point is, shapes need to be matched.\n",
    "#make sure to NEVER delete the first column. this is the one containing the actual values.\n",
    "for i in range(0,testY.shape[1]-2):\n",
    "    testY = np.delete(testY,1,1)\n",
    "testY = scaler.inverse_transform(testY)"
   ]
  },
  {
   "cell_type": "code",
   "execution_count": 25,
   "id": "99f4b05a",
   "metadata": {},
   "outputs": [
    {
     "name": "stdout",
     "output_type": "stream",
     "text": [
      "[[ 98.83     83.54   ]\n",
      " [106.92     81.05   ]\n",
      " [111.15666  74.17   ]]\n"
     ]
    }
   ],
   "source": [
    "print(testY)"
   ]
  },
  {
   "cell_type": "code",
   "execution_count": 26,
   "id": "7e04a40b",
   "metadata": {},
   "outputs": [
    {
     "name": "stdout",
     "output_type": "stream",
     "text": [
      "MAE is:  26.131006\n",
      "RMSE is:  26.244116\n",
      "105.63556 79.50455\n"
     ]
    }
   ],
   "source": [
    "mean_predicted = np.mean(predicted[:,0])\n",
    "mean_test = np.mean(testY[:,0])\n",
    "print(\"MAE is: \",mean_absolute_error(testY[:,0],predicted[:,0]))\n",
    "print(\"RMSE is: \",np.sqrt(mean_squared_error(testY[:,0],predicted[:,0])))\n",
    "print(mean_test,mean_predicted)"
   ]
  },
  {
   "cell_type": "code",
   "execution_count": 27,
   "id": "3d192ebc",
   "metadata": {},
   "outputs": [],
   "source": [
    "result = pd.concat([pd.Series(predicted[:,0]),pd.Series(testY[:,0])],axis=1)\n",
    "result.columns = ['thetahat','theta']\n",
    "result['diff'] = result['thetahat'] - result['theta']"
   ]
  },
  {
   "cell_type": "code",
   "execution_count": 28,
   "id": "066cd8de",
   "metadata": {},
   "outputs": [
    {
     "data": {
      "text/html": [
       "<div>\n",
       "<style scoped>\n",
       "    .dataframe tbody tr th:only-of-type {\n",
       "        vertical-align: middle;\n",
       "    }\n",
       "\n",
       "    .dataframe tbody tr th {\n",
       "        vertical-align: top;\n",
       "    }\n",
       "\n",
       "    .dataframe thead th {\n",
       "        text-align: right;\n",
       "    }\n",
       "</style>\n",
       "<table border=\"1\" class=\"dataframe\">\n",
       "  <thead>\n",
       "    <tr style=\"text-align: right;\">\n",
       "      <th></th>\n",
       "      <th>thetahat</th>\n",
       "      <th>theta</th>\n",
       "      <th>diff</th>\n",
       "    </tr>\n",
       "  </thead>\n",
       "  <tbody>\n",
       "    <tr>\n",
       "      <th>0</th>\n",
       "      <td>75.987167</td>\n",
       "      <td>98.830002</td>\n",
       "      <td>-22.842834</td>\n",
       "    </tr>\n",
       "    <tr>\n",
       "      <th>1</th>\n",
       "      <td>80.026451</td>\n",
       "      <td>106.919998</td>\n",
       "      <td>-26.893547</td>\n",
       "    </tr>\n",
       "    <tr>\n",
       "      <th>2</th>\n",
       "      <td>82.500023</td>\n",
       "      <td>111.156662</td>\n",
       "      <td>-28.656639</td>\n",
       "    </tr>\n",
       "  </tbody>\n",
       "</table>\n",
       "</div>"
      ],
      "text/plain": [
       "    thetahat       theta       diff\n",
       "0  75.987167   98.830002 -22.842834\n",
       "1  80.026451  106.919998 -26.893547\n",
       "2  82.500023  111.156662 -28.656639"
      ]
     },
     "execution_count": 28,
     "metadata": {},
     "output_type": "execute_result"
    }
   ],
   "source": [
    "result"
   ]
  },
  {
   "cell_type": "code",
   "execution_count": 29,
   "id": "c3debba5",
   "metadata": {},
   "outputs": [
    {
     "data": {
      "text/plain": [
       "[<matplotlib.lines.Line2D at 0x268a5530af0>,\n",
       " <matplotlib.lines.Line2D at 0x268a5530a00>]"
      ]
     },
     "execution_count": 29,
     "metadata": {},
     "output_type": "execute_result"
    },
    {
     "data": {
      "image/png": "[encoded data removed]",
      "text/plain": [
       "<Figure size 432x288 with 1 Axes>"
      ]
     },
     "metadata": {
      "needs_background": "light"
     },
     "output_type": "display_data"
    }
   ],
   "source": [
    "plt.plot(testY[:,0],'g', predicted[:,0], 'r')"
   ]
  },
  {
   "cell_type": "code",
   "execution_count": null,
   "id": "2033571e",
   "metadata": {},
   "outputs": [],
   "source": []
  }
 ],
 "metadata": {
  "kernelspec": {
   "display_name": "Python 3 (ipykernel)",
   "language": "python",
   "name": "python3"
  },
  "language_info": {
   "codemirror_mode": {
    "name": "ipython",
    "version": 3
   },
   "file_extension": ".py",
   "mimetype": "text/x-python",
   "name": "python",
   "nbconvert_exporter": "python",
   "pygments_lexer": "ipython3",
   "version": "3.10.4"
  }
 },
 "nbformat": 4,
 "nbformat_minor": 5
}
